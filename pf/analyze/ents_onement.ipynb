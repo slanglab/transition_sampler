{
 "cells": [
  {
   "cell_type": "code",
   "execution_count": 1,
   "metadata": {
    "collapsed": true
   },
   "outputs": [],
   "source": [
    "from __future__ import division\n",
    "import json, os\n",
    "from collections import defaultdict"
   ]
  },
  {
   "cell_type": "code",
   "execution_count": 2,
   "metadata": {
    "collapsed": true
   },
   "outputs": [],
   "source": [
    "from utils import *\n",
    "%load_ext autoreload\n",
    "%autoreload 2"
   ]
  },
  {
   "cell_type": "markdown",
   "metadata": {},
   "source": [
    "### goal: \n",
    "(1) subset to entities with one mention only \n",
    "(2) look at false positives\n",
    "(3) look at false negatives \n",
    "\n",
    "See how these differ with greedy, 10 Monte Carlo samples and 100 Monte Carlo samples. "
   ]
  },
  {
   "cell_type": "code",
   "execution_count": 3,
   "metadata": {},
   "outputs": [
    {
     "name": "stdout",
     "output_type": "stream",
     "text": [
      "132832\n",
      "68924\n"
     ]
    }
   ],
   "source": [
    "#get indexes for all mentions \n",
    "mode2name2idxs = {m: defaultdict(list) for m in ['train', 'test']}\n",
    "for mode in ['train', 'test']:\n",
    "    for i, line in enumerate(open('/home/kkeith/newsevents/data/'+mode+'.json')):\n",
    "        dd = json.loads(line)\n",
    "        name = dd['name']\n",
    "        mode2name2idxs[mode][name].append(i)\n",
    "    print i"
   ]
  },
  {
   "cell_type": "code",
   "execution_count": 4,
   "metadata": {
    "collapsed": true
   },
   "outputs": [],
   "source": [
    "#find all one-mention names \n",
    "mode2onement = {m: set() for m in ['train', 'test']}\n",
    "for mode in ['train', 'test']:\n",
    "    for name, idx_list in mode2name2idxs[mode].iteritems():\n",
    "        numments = len(idx_list)\n",
    "        if numments == 1: \n",
    "            mode2onement[mode].add(name)"
   ]
  },
  {
   "cell_type": "markdown",
   "metadata": {},
   "source": [
    "#### how many of the 1ment names are positives? "
   ]
  },
  {
   "cell_type": "code",
   "execution_count": 5,
   "metadata": {},
   "outputs": [
    {
     "name": "stdout",
     "output_type": "stream",
     "text": [
      "17870\n"
     ]
    }
   ],
   "source": [
    "#1. load FE names \n",
    "fe_all_filename = \"/home/kkeith/policefatalities_emnlp2017/data/gold/fatalencs/fe-all.json\"\n",
    "all_gold = set([json.loads(line)['name'] for line in open(fe_all_filename)])\n",
    "print len(all_gold)"
   ]
  },
  {
   "cell_type": "code",
   "execution_count": 22,
   "metadata": {},
   "outputs": [
    {
     "name": "stdout",
     "output_type": "stream",
     "text": [
      "LOADING fe\n",
      "FATAL ENCOUNTERS: num in test set 463, num historical 19349\n",
      "463 19349\n"
     ]
    }
   ],
   "source": [
    "testents, histents = get_gold()\n",
    "print len(testents), len(histents)"
   ]
  },
  {
   "cell_type": "code",
   "execution_count": 24,
   "metadata": {},
   "outputs": [
    {
     "name": "stdout",
     "output_type": "stream",
     "text": [
      "=== test\n",
      "   total ents=  24550\n",
      "   ents with 1ment=  16601\n",
      "   ents with 1ment POS=  71\n",
      "\n"
     ]
    }
   ],
   "source": [
    "# how many of 1 ment names are positives \n",
    "mode2POSonement = {m: set() for m in ['train', 'test']}\n",
    "for mode in ['test']:\n",
    "    print '===', mode\n",
    "    print '   total ents= ', len(mode2name2idxs[mode].keys())\n",
    "    print '   ents with 1ment= ', len(mode2onement[mode])\n",
    "    #pos = mode2onement[mode] & all_gold #that is not excluding historical... \n",
    "    #throw away historical \n",
    "    pos = mode2onement[mode] & testents\n",
    "    mode2POSonement[mode] = pos \n",
    "    print '   ents with 1ment POS= ', len(pos) \n",
    "    print ''"
   ]
  },
  {
   "cell_type": "code",
   "execution_count": 25,
   "metadata": {},
   "outputs": [
    {
     "name": "stdout",
     "output_type": "stream",
     "text": [
      "train\n",
      "0\n",
      "\n",
      "test\n",
      "71\n",
      "\n"
     ]
    }
   ],
   "source": [
    "#get all the indexes of 1ment pos entities: \n",
    "mode2posidxes = {m: [] for m in ['train', 'test']}\n",
    "for mode in ['train', 'test']:\n",
    "    for name in mode2POSonement[mode]:\n",
    "        mode2posidxes[mode] += mode2name2idxs[mode][name]\n",
    "\n",
    "#make sure same number of mentions as the same number of pos 1-ment names\n",
    "for mode in ['train', 'test']:\n",
    "    mode2posidxes[mode] = sorted(mode2posidxes[mode])\n",
    "    print mode\n",
    "    print len(mode2posidxes[mode])\n",
    "    print ''"
   ]
  },
  {
   "cell_type": "markdown",
   "metadata": {
    "collapsed": true
   },
   "source": [
    "### rule-based \n",
    "Look at greedy rule-based false positives and false negatives. "
   ]
  },
  {
   "cell_type": "code",
   "execution_count": 26,
   "metadata": {
    "collapsed": true
   },
   "outputs": [],
   "source": [
    "fnames = ['dicts_allsent_greedy.out', 'dicts_allsent_10samp.out', 'dicts_allsent_100samp.out']\n",
    "labels = ['greedy', '10samp', '100samp']\n",
    "pos_names = mode2POSonement['test']"
   ]
  },
  {
   "cell_type": "code",
   "execution_count": 27,
   "metadata": {
    "collapsed": true
   },
   "outputs": [],
   "source": [
    "#GREEDY FALSE NEGATIVES (only at test time)\n",
    "samp2fn = defaultdict(int)\n",
    "samp2fn_text = defaultdict(list)\n",
    "\n",
    "for ff, label in zip(fnames, labels):\n",
    "    for line in open(ff, 'r'):\n",
    "        dd = json.loads(line)\n",
    "        if dd['name'] not in pos_names: continue \n",
    "        if dd['weight'] == 0.0:\n",
    "            samp2fn[label] += 1\n",
    "            samp2fn_text[label].append(dd['sent_alter'])"
   ]
  },
  {
   "cell_type": "code",
   "execution_count": 29,
   "metadata": {},
   "outputs": [
    {
     "name": "stdout",
     "output_type": "stream",
     "text": [
      "TOTAL POS 1MENT= 71\n",
      "(false negatives being a hard threshold weight=0.0)\n",
      "\n",
      "greedy num false negatives= 62\n",
      "  87.323943662%\n",
      "\n",
      "10samp num false negatives= 57\n",
      "  80.2816901408%\n",
      "\n",
      "100samp num false negatives= 51\n",
      "  71.8309859155%\n",
      "\n"
     ]
    }
   ],
   "source": [
    "print 'TOTAL POS 1MENT=', len(pos_names)\n",
    "print '(false negatives being a hard threshold weight=0.0)'\n",
    "print ''\n",
    "for label in labels:\n",
    "    fn = samp2fn[label] \n",
    "    print label+' num false negatives=', fn\n",
    "    print '  '+str(fn/len(pos_names)*100)+'%'\n",
    "    print ''"
   ]
  },
  {
   "cell_type": "code",
   "execution_count": 30,
   "metadata": {},
   "outputs": [
    {
     "name": "stdout",
     "output_type": "stream",
     "text": [
      "greedy Counter({0.0: 62, 1.0: 9}) \n",
      "\n",
      "10samp Counter({0.0: 57, 1.0: 5, 0.1: 2, 0.3: 2, 0.7: 2, 0.2: 1, 0.6: 1, 0.9: 1}) \n",
      "\n",
      "100samp Counter({0.0: 51, 0.01: 4, 0.66: 2, 1.0: 1, 0.97: 1, 0.83: 1, 0.05: 1, 0.26: 1, 0.64: 1, 0.88: 1, 0.02: 1, 0.48: 1, 0.03: 1, 0.19: 1, 0.04: 1, 0.98: 1, 0.56: 1}) \n",
      "\n"
     ]
    }
   ],
   "source": [
    "ttl2wtcts_fn = {}\n",
    "for ff, label in zip(fnames, labels):\n",
    "    weight_counts = Counter()\n",
    "    for line in open(ff, 'r'):\n",
    "        dd = json.loads(line)\n",
    "        if dd['name'] not in pos_names: continue \n",
    "        weight_counts[dd['weight']] += 1\n",
    "    ttl2wtcts_fn[label] = weight_counts\n",
    "    print label, weight_counts, '\\n'"
   ]
  },
  {
   "cell_type": "code",
   "execution_count": 34,
   "metadata": {},
   "outputs": [
    {
     "name": "stdout",
     "output_type": "stream",
     "text": [
      "FALSE NEGATIVES--10 MC SAMPLES\n"
     ]
    },
    {
     "data": {
      "image/png": "[encoded data removed]",
      "text/plain": [
       "<matplotlib.figure.Figure at 0x7f60527f2990>"
      ]
     },
     "metadata": {},
     "output_type": "display_data"
    }
   ],
   "source": [
    "#10 sample\n",
    "title = 'FALSE NEGATIVES--10 MC SAMPLES'\n",
    "print title\n",
    "a = ttl2wtcts_fn['10samp']\n",
    "a = dict(a)\n",
    "# print '0.0:', a[0.0]\n",
    "# print 'remove 0.0 b/c then cant see rest of histogram'\n",
    "# del a[0.0]\n",
    "plt.bar(a.keys(), a.values(), 0.1)\n",
    "plt.title(title)\n",
    "plt.xlabel('sent weight')\n",
    "plt.ylabel('count')\n",
    "plt.show()"
   ]
  },
  {
   "cell_type": "code",
   "execution_count": 36,
   "metadata": {},
   "outputs": [
    {
     "name": "stdout",
     "output_type": "stream",
     "text": [
      "FALSE NEGATIVES--100 MC SAMPLES\n"
     ]
    },
    {
     "data": {
      "image/png": "[encoded data removed]",
      "text/plain": [
       "<matplotlib.figure.Figure at 0x7f6052af77d0>"
      ]
     },
     "metadata": {},
     "output_type": "display_data"
    }
   ],
   "source": [
    "#100 sample\n",
    "title = 'FALSE NEGATIVES--100 MC SAMPLES'\n",
    "print title\n",
    "a = ttl2wtcts_fn['100samp'].copy()\n",
    "a = dict(a)\n",
    "# print '0.0:', a[0.0]\n",
    "# print 'remove 0.0 b/c then cant see rest of histogram'\n",
    "# del a[0.0]\n",
    "plt.bar(a.keys(), a.values(), 0.01)\n",
    "plt.title(title)\n",
    "plt.xlabel('sent weight')\n",
    "plt.ylabel('count')\n",
    "plt.show()"
   ]
  },
  {
   "cell_type": "markdown",
   "metadata": {},
   "source": [
    "## false positives"
   ]
  },
  {
   "cell_type": "code",
   "execution_count": 41,
   "metadata": {},
   "outputs": [
    {
     "name": "stdout",
     "output_type": "stream",
     "text": [
      "=== test\n",
      "   total ents=  24550\n",
      "   ents with 1ment=  16601\n",
      "   ents with 1ment NEG=  16530\n",
      "(sanity check) positives= 71\n",
      "\n"
     ]
    }
   ],
   "source": [
    "# how many of 1 ment names are NEGATIVES \n",
    "NEGonement = set()\n",
    "for mode in ['test']:\n",
    "    print '===', mode\n",
    "    print '   total ents= ', len(mode2name2idxs[mode].keys())\n",
    "    print '   ents with 1ment= ', len(mode2onement[mode])\n",
    "    #NEGonement = mode2onement[mode] - all_gold\n",
    "    NEGonement = mode2onement[mode] - testents\n",
    "    print '   ents with 1ment NEG= ', len(NEGonement) \n",
    "    print '(sanity check) positives=', len(mode2onement[mode]) - len(NEGonement)\n",
    "    print ''"
   ]
  },
  {
   "cell_type": "code",
   "execution_count": 42,
   "metadata": {
    "collapsed": true
   },
   "outputs": [],
   "source": [
    "#FALSE POSITIVES (only at test time)\n",
    "samp2fp = defaultdict(int)\n",
    "samp2fp_text = defaultdict(list)\n",
    "\n",
    "for ff, label in zip(fnames, labels):\n",
    "    for line in open(ff, 'r'):\n",
    "        dd = json.loads(line)\n",
    "        if dd['name'] not in NEGonement: continue \n",
    "        if dd['weight'] == 1.0:\n",
    "            samp2fp[label] += 1\n",
    "            samp2fp_text[label].append(dd['sent_alter'])"
   ]
  },
  {
   "cell_type": "code",
   "execution_count": 45,
   "metadata": {},
   "outputs": [
    {
     "name": "stdout",
     "output_type": "stream",
     "text": [
      "TOTAL NEG 1MENT= 16530\n",
      "(false positives being a hard threshold weight=1.0)\n",
      "\n",
      "greedy num false positives= 242\n",
      "  1.46400483969%\n",
      "\n",
      "10samp num false positives= 83\n",
      "  0.502117362371%\n",
      "\n",
      "100samp num false positives= 13\n",
      "  0.0786448880823%\n",
      "\n"
     ]
    }
   ],
   "source": [
    "print 'TOTAL NEG 1MENT=', len(NEGonement)\n",
    "print '(false positives being a hard threshold weight=1.0)'\n",
    "print ''\n",
    "for label in labels:\n",
    "    fp = samp2fp[label] \n",
    "    print label+' num false positives=', fp\n",
    "    print '  '+str(fp/len(NEGonement)*100)+'%'\n",
    "    print ''"
   ]
  },
  {
   "cell_type": "code",
   "execution_count": 46,
   "metadata": {},
   "outputs": [
    {
     "name": "stdout",
     "output_type": "stream",
     "text": [
      "greedy Counter({0.0: 16288, 1.0: 242}) \n",
      "\n",
      "10samp Counter({0.0: 16145, 1.0: 83, 0.1: 83, 0.8: 41, 0.9: 40, 0.2: 26, 0.6: 25, 0.3: 24, 0.4: 23, 0.7: 21, 0.5: 19}) \n",
      "\n",
      "100samp Counter({0.0: 15915, 0.01: 135, 0.02: 59, 0.03: 32, 0.04: 29, 0.98: 18, 0.97: 14, 0.99: 14, 1.0: 13, 0.05: 13, 0.06: 12, 0.96: 10, 0.07: 9, 0.94: 9, 0.95: 8, 0.08: 8, 0.12: 7, 0.85: 7, 0.18: 7, 0.26: 6, 0.88: 6, 0.87: 6, 0.89: 5, 0.34: 5, 0.14: 5, 0.13: 5, 0.62: 5, 0.93: 5, 0.31: 5, 0.52: 5, 0.48: 5, 0.25: 4, 0.9: 4, 0.56: 4, 0.09: 4, 0.83: 4, 0.42: 4, 0.91: 4, 0.82: 4, 0.77: 4, 0.7: 4, 0.72: 4, 0.65: 4, 0.47: 3, 0.67: 3, 0.8: 3, 0.71: 3, 0.86: 3, 0.55: 3, 0.92: 3, 0.78: 3, 0.64: 3, 0.68: 3, 0.17: 3, 0.58: 3, 0.81: 3, 0.79: 3, 0.19: 2, 0.75: 2, 0.24: 2, 0.59: 2, 0.2: 2, 0.1: 2, 0.76: 2, 0.41: 2, 0.6: 2, 0.15: 2, 0.11: 2, 0.69: 2, 0.45: 2, 0.44: 2, 0.23: 2, 0.43: 2, 0.21: 2, 0.54: 2, 0.16: 2, 0.29: 2, 0.49: 2, 0.32: 2, 0.73: 1, 0.46: 1, 0.22: 1, 0.4: 1, 0.84: 1, 0.61: 1, 0.27: 1, 0.33: 1, 0.53: 1, 0.63: 1, 0.39: 1, 0.74: 1, 0.3: 1, 0.66: 1}) \n",
      "\n"
     ]
    }
   ],
   "source": [
    "ttl2wtcts_fp = {}\n",
    "for ff, label in zip(fnames, labels):\n",
    "    weight_counts = Counter()\n",
    "    for line in open(ff, 'r'):\n",
    "        dd = json.loads(line)\n",
    "        if dd['name'] not in NEGonement: continue \n",
    "        weight_counts[dd['weight']] += 1\n",
    "    ttl2wtcts_fp[label] = weight_counts\n",
    "    print label, weight_counts, '\\n'"
   ]
  },
  {
   "cell_type": "code",
   "execution_count": 47,
   "metadata": {},
   "outputs": [
    {
     "name": "stdout",
     "output_type": "stream",
     "text": [
      "FALSE POSITIVES--10 MC SAMPLES\n",
      "0.0: 16145\n",
      "remove 0.0 b/c then cant see rest of histogram\n"
     ]
    },
    {
     "data": {
      "image/png": "[encoded data removed]",
      "text/plain": [
       "<matplotlib.figure.Figure at 0x7f6051a1e1d0>"
      ]
     },
     "metadata": {},
     "output_type": "display_data"
    }
   ],
   "source": [
    "#10 sample\n",
    "title = 'FALSE POSITIVES--10 MC SAMPLES'\n",
    "print title\n",
    "a = ttl2wtcts_fp['10samp']\n",
    "a = dict(a)\n",
    "print '0.0:', a[0.0]\n",
    "print 'remove 0.0 b/c then cant see rest of histogram'\n",
    "del a[0.0]\n",
    "plt.bar(a.keys(), a.values(), 0.1)\n",
    "plt.title(title)\n",
    "plt.xlabel('sent weight')\n",
    "plt.ylabel('count')\n",
    "plt.show()"
   ]
  },
  {
   "cell_type": "code",
   "execution_count": 48,
   "metadata": {},
   "outputs": [
    {
     "name": "stdout",
     "output_type": "stream",
     "text": [
      "FALSE POSITIVES--100 MC SAMPLES\n",
      "0.0: 15915\n",
      "remove 0.0 b/c then cant see rest of histogram\n"
     ]
    },
    {
     "data": {
      "image/png": "[encoded data removed]",
      "text/plain": [
       "<matplotlib.figure.Figure at 0x7f6051ab4c50>"
      ]
     },
     "metadata": {},
     "output_type": "display_data"
    }
   ],
   "source": [
    "#100 sample\n",
    "title = 'FALSE POSITIVES--100 MC SAMPLES'\n",
    "print title\n",
    "a = ttl2wtcts_fp['100samp'].copy()\n",
    "a = dict(a)\n",
    "print '0.0:', a[0.0]\n",
    "print 'remove 0.0 b/c then cant see rest of histogram'\n",
    "del a[0.0]\n",
    "plt.bar(a.keys(), a.values(), 0.01)\n",
    "plt.title(title)\n",
    "plt.xlabel('sent weight')\n",
    "plt.ylabel('count')\n",
    "plt.show()"
   ]
  }
 ],
 "metadata": {
  "kernelspec": {
   "display_name": "Python 2",
   "language": "python",
   "name": "python2"
  },
  "language_info": {
   "codemirror_mode": {
    "name": "ipython",
    "version": 2
   },
   "file_extension": ".py",
   "mimetype": "text/x-python",
   "name": "python",
   "nbconvert_exporter": "python",
   "pygments_lexer": "ipython2",
   "version": "2.7.13"
  }
 },
 "nbformat": 4,
 "nbformat_minor": 2
}
