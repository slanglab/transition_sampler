{
 "cells": [
  {
   "cell_type": "code",
   "execution_count": 34,
   "metadata": {
    "collapsed": true
   },
   "outputs": [],
   "source": [
    "from __future__ import division\n",
    "import numpy as np\n",
    "import sys,json,itertools,re,argparse\n",
    "from collections import Counter,defaultdict"
   ]
  },
  {
   "cell_type": "code",
   "execution_count": 35,
   "metadata": {},
   "outputs": [
    {
     "name": "stdout",
     "output_type": "stream",
     "text": [
      "The autoreload extension is already loaded. To reload it, use:\n",
      "  %reload_ext autoreload\n"
     ]
    }
   ],
   "source": [
    "from get_feats import * \n",
    "%load_ext autoreload\n",
    "%autoreload 2"
   ]
  },
  {
   "cell_type": "code",
   "execution_count": 36,
   "metadata": {},
   "outputs": [
    {
     "name": "stdout",
     "output_type": "stream",
     "text": [
      "12\n"
     ]
    }
   ],
   "source": [
    "#real example \n",
    "parse_samp = [[\"root\", 0, 1], [\"punct\", 4, 2], [\"nsubj\", 4, 3], [\"dep\", 1, 4], [\"punct\", 4, 5], [\"punct\", 4, 6], [\"root\", 6, 7], [\"compound\", 9, 8], [\"acl:relcl\", 7, 9], [\"dobj\", 9, 10], [\"punct\", 7, 11], [\"root\", 11, 12]]\n",
    "argspan = [u'6', u'7']\n",
    "print len(parse_samp)"
   ]
  },
  {
   "cell_type": "code",
   "execution_count": 37,
   "metadata": {},
   "outputs": [
    {
     "name": "stdout",
     "output_type": "stream",
     "text": [
      "{1: 0, 2: 4, 3: 4, 4: 1, 5: 4, 6: 4, 7: 6, 8: 9, 9: 7, 10: 9, 11: 7, 12: 11}\n",
      "12\n"
     ]
    }
   ],
   "source": [
    "child2parent = {edge[2]:edge[1] for edge in parse_samp}\n",
    "#is it true that each child can only have one parent?? \n",
    "print child2parent\n",
    "print len(child2parent)"
   ]
  },
  {
   "cell_type": "code",
   "execution_count": 20,
   "metadata": {},
   "outputs": [
    {
     "name": "stdout",
     "output_type": "stream",
     "text": [
      "3\n"
     ]
    }
   ],
   "source": [
    "#toy example \n",
    "argspan =[u'0', u'2']\n",
    "parse_samp = [['deplabel', 4, 2], ['deplabel', 2, 3], ['deplabel', 3, 1]]\n",
    "print len(parse_samp)"
   ]
  },
  {
   "cell_type": "code",
   "execution_count": 21,
   "metadata": {},
   "outputs": [
    {
     "name": "stdout",
     "output_type": "stream",
     "text": [
      "{1: 3, 2: 4, 3: 2}\n",
      "3\n"
     ]
    }
   ],
   "source": [
    "child2parent = {edge[2]:edge[1] for edge in parse_samp}\n",
    "#is it true that each child can only have one parent?? \n",
    "print child2parent\n",
    "print len(child2parent)"
   ]
  },
  {
   "cell_type": "code",
   "execution_count": 40,
   "metadata": {},
   "outputs": [
    {
     "data": {
      "text/plain": [
       "6"
      ]
     },
     "execution_count": 40,
     "metadata": {},
     "output_type": "execute_result"
    }
   ],
   "source": [
    "def get_head(parse_samp, argspan):\n",
    "    '''\n",
    "    parse_samp::\n",
    "    a single parse edges example e.g.\n",
    "    parse_samp = [['deplabel', 4, 2], ['deplabel', 2, 3], ['deplable', 3, 1]]\n",
    "    \n",
    "    argspan::\n",
    "    the starting and ending tokens for a single argument \n",
    "    argspan =[u'0', u'2']\n",
    "    \n",
    "    this returns the \"head index\" from the argspan\n",
    "    by using the dependency edges given by parse_samp \n",
    "    '''\n",
    "    votes = defaultdict(int)\n",
    "    child2parent = {edge[2]-1:edge[1]-1 for edge in parse_samp} #need the -1 for parse to argspan aligning\n",
    "    assert len(child2parent) == len(parse_samp), 'problem with parse tree structure??'\n",
    "    \n",
    "    as_start = int(argspan[0]) #starting index of argument text span\n",
    "    as_end = int(argspan[1]) #ending index of argument text span \n",
    "    arg_tokrange =[x for x in xrange(as_start, as_end+1)]\n",
    "     \n",
    "    #make votes by iterating thru all the toks \n",
    "    for tok in arg_tokrange:\n",
    "        #basecase tok is the head \n",
    "        child = tok \n",
    "        parent = child2parent[child]\n",
    "        #go up the paths until you EXIT the token span of the current argument \n",
    "        while parent in arg_tokrange:\n",
    "            child = parent\n",
    "            parent = child2parent[child]\n",
    "        head = child\n",
    "        votes[head] += 1\n",
    "    \n",
    "    #then find the head index\n",
    "    max_votes = max(votes.values())\n",
    "    possible_heads = [k for k in votes.keys() if votes[k] == max_votes]\n",
    "    head_idx = min(possible_heads) #IMPORTANT: ties go to the smallest index \n",
    "    \n",
    "    return head_idx\n",
    "\n",
    "get_head(parse_samp, argspan)"
   ]
  }
 ],
 "metadata": {
  "kernelspec": {
   "display_name": "hk",
   "language": "python",
   "name": "hk"
  },
  "language_info": {
   "codemirror_mode": {
    "name": "ipython",
    "version": 2
   },
   "file_extension": ".py",
   "mimetype": "text/x-python",
   "name": "python",
   "nbconvert_exporter": "python",
   "pygments_lexer": "ipython2",
   "version": "2.7.6"
  }
 },
 "nbformat": 4,
 "nbformat_minor": 2
}
